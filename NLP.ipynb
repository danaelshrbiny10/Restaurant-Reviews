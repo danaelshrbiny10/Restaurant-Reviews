{
  "nbformat": 4,
  "nbformat_minor": 0,
  "metadata": {
    "colab": {
      "name": "Untitled21.ipynb",
      "provenance": []
    },
    "kernelspec": {
      "name": "python3",
      "display_name": "Python 3"
    },
    "language_info": {
      "name": "python"
    }
  },
  "cells": [
    {
      "cell_type": "markdown",
      "source": [
        "# Download the package for nlp"
      ],
      "metadata": {
        "id": "laX_KONNdqy_"
      }
    },
    {
      "cell_type": "code",
      "execution_count": 1,
      "metadata": {
        "colab": {
          "base_uri": "https://localhost:8080/"
        },
        "id": "nyun-JmldOhS",
        "outputId": "85cecdce-44dd-42a3-8290-6d17d5b81eaa"
      },
      "outputs": [
        {
          "output_type": "stream",
          "name": "stdout",
          "text": [
            "[nltk_data] Downloading collection 'all'\n",
            "[nltk_data]    | \n",
            "[nltk_data]    | Downloading package abc to /root/nltk_data...\n",
            "[nltk_data]    |   Unzipping corpora/abc.zip.\n",
            "[nltk_data]    | Downloading package alpino to /root/nltk_data...\n",
            "[nltk_data]    |   Unzipping corpora/alpino.zip.\n",
            "[nltk_data]    | Downloading package averaged_perceptron_tagger to\n",
            "[nltk_data]    |     /root/nltk_data...\n",
            "[nltk_data]    |   Unzipping taggers/averaged_perceptron_tagger.zip.\n",
            "[nltk_data]    | Downloading package averaged_perceptron_tagger_ru to\n",
            "[nltk_data]    |     /root/nltk_data...\n",
            "[nltk_data]    |   Unzipping\n",
            "[nltk_data]    |       taggers/averaged_perceptron_tagger_ru.zip.\n",
            "[nltk_data]    | Downloading package basque_grammars to\n",
            "[nltk_data]    |     /root/nltk_data...\n",
            "[nltk_data]    |   Unzipping grammars/basque_grammars.zip.\n",
            "[nltk_data]    | Downloading package biocreative_ppi to\n",
            "[nltk_data]    |     /root/nltk_data...\n",
            "[nltk_data]    |   Unzipping corpora/biocreative_ppi.zip.\n",
            "[nltk_data]    | Downloading package bllip_wsj_no_aux to\n",
            "[nltk_data]    |     /root/nltk_data...\n",
            "[nltk_data]    |   Unzipping models/bllip_wsj_no_aux.zip.\n",
            "[nltk_data]    | Downloading package book_grammars to\n",
            "[nltk_data]    |     /root/nltk_data...\n",
            "[nltk_data]    |   Unzipping grammars/book_grammars.zip.\n",
            "[nltk_data]    | Downloading package brown to /root/nltk_data...\n",
            "[nltk_data]    |   Unzipping corpora/brown.zip.\n",
            "[nltk_data]    | Downloading package brown_tei to /root/nltk_data...\n",
            "[nltk_data]    |   Unzipping corpora/brown_tei.zip.\n",
            "[nltk_data]    | Downloading package cess_cat to /root/nltk_data...\n",
            "[nltk_data]    |   Unzipping corpora/cess_cat.zip.\n",
            "[nltk_data]    | Downloading package cess_esp to /root/nltk_data...\n",
            "[nltk_data]    |   Unzipping corpora/cess_esp.zip.\n",
            "[nltk_data]    | Downloading package chat80 to /root/nltk_data...\n",
            "[nltk_data]    |   Unzipping corpora/chat80.zip.\n",
            "[nltk_data]    | Downloading package city_database to\n",
            "[nltk_data]    |     /root/nltk_data...\n",
            "[nltk_data]    |   Unzipping corpora/city_database.zip.\n",
            "[nltk_data]    | Downloading package cmudict to /root/nltk_data...\n",
            "[nltk_data]    |   Unzipping corpora/cmudict.zip.\n",
            "[nltk_data]    | Downloading package comparative_sentences to\n",
            "[nltk_data]    |     /root/nltk_data...\n",
            "[nltk_data]    |   Unzipping corpora/comparative_sentences.zip.\n",
            "[nltk_data]    | Downloading package comtrans to /root/nltk_data...\n",
            "[nltk_data]    | Downloading package conll2000 to /root/nltk_data...\n",
            "[nltk_data]    |   Unzipping corpora/conll2000.zip.\n",
            "[nltk_data]    | Downloading package conll2002 to /root/nltk_data...\n",
            "[nltk_data]    |   Unzipping corpora/conll2002.zip.\n",
            "[nltk_data]    | Downloading package conll2007 to /root/nltk_data...\n",
            "[nltk_data]    | Downloading package crubadan to /root/nltk_data...\n",
            "[nltk_data]    |   Unzipping corpora/crubadan.zip.\n",
            "[nltk_data]    | Downloading package dependency_treebank to\n",
            "[nltk_data]    |     /root/nltk_data...\n",
            "[nltk_data]    |   Unzipping corpora/dependency_treebank.zip.\n",
            "[nltk_data]    | Downloading package dolch to /root/nltk_data...\n",
            "[nltk_data]    |   Unzipping corpora/dolch.zip.\n",
            "[nltk_data]    | Downloading package europarl_raw to\n",
            "[nltk_data]    |     /root/nltk_data...\n",
            "[nltk_data]    |   Unzipping corpora/europarl_raw.zip.\n",
            "[nltk_data]    | Downloading package extended_omw to\n",
            "[nltk_data]    |     /root/nltk_data...\n",
            "[nltk_data]    |   Unzipping corpora/extended_omw.zip.\n",
            "[nltk_data]    | Downloading package floresta to /root/nltk_data...\n",
            "[nltk_data]    |   Unzipping corpora/floresta.zip.\n",
            "[nltk_data]    | Downloading package framenet_v15 to\n",
            "[nltk_data]    |     /root/nltk_data...\n",
            "[nltk_data]    |   Unzipping corpora/framenet_v15.zip.\n",
            "[nltk_data]    | Downloading package framenet_v17 to\n",
            "[nltk_data]    |     /root/nltk_data...\n",
            "[nltk_data]    |   Unzipping corpora/framenet_v17.zip.\n",
            "[nltk_data]    | Downloading package gazetteers to /root/nltk_data...\n",
            "[nltk_data]    |   Unzipping corpora/gazetteers.zip.\n",
            "[nltk_data]    | Downloading package genesis to /root/nltk_data...\n",
            "[nltk_data]    |   Unzipping corpora/genesis.zip.\n",
            "[nltk_data]    | Downloading package gutenberg to /root/nltk_data...\n",
            "[nltk_data]    |   Unzipping corpora/gutenberg.zip.\n",
            "[nltk_data]    | Downloading package ieer to /root/nltk_data...\n",
            "[nltk_data]    |   Unzipping corpora/ieer.zip.\n",
            "[nltk_data]    | Downloading package inaugural to /root/nltk_data...\n",
            "[nltk_data]    |   Unzipping corpora/inaugural.zip.\n",
            "[nltk_data]    | Downloading package indian to /root/nltk_data...\n",
            "[nltk_data]    |   Unzipping corpora/indian.zip.\n",
            "[nltk_data]    | Downloading package jeita to /root/nltk_data...\n",
            "[nltk_data]    | Downloading package kimmo to /root/nltk_data...\n",
            "[nltk_data]    |   Unzipping corpora/kimmo.zip.\n",
            "[nltk_data]    | Downloading package knbc to /root/nltk_data...\n",
            "[nltk_data]    | Downloading package large_grammars to\n",
            "[nltk_data]    |     /root/nltk_data...\n",
            "[nltk_data]    |   Unzipping grammars/large_grammars.zip.\n",
            "[nltk_data]    | Downloading package lin_thesaurus to\n",
            "[nltk_data]    |     /root/nltk_data...\n",
            "[nltk_data]    |   Unzipping corpora/lin_thesaurus.zip.\n",
            "[nltk_data]    | Downloading package mac_morpho to /root/nltk_data...\n",
            "[nltk_data]    |   Unzipping corpora/mac_morpho.zip.\n",
            "[nltk_data]    | Downloading package machado to /root/nltk_data...\n",
            "[nltk_data]    | Downloading package masc_tagged to /root/nltk_data...\n",
            "[nltk_data]    | Downloading package maxent_ne_chunker to\n",
            "[nltk_data]    |     /root/nltk_data...\n",
            "[nltk_data]    |   Unzipping chunkers/maxent_ne_chunker.zip.\n",
            "[nltk_data]    | Downloading package maxent_treebank_pos_tagger to\n",
            "[nltk_data]    |     /root/nltk_data...\n",
            "[nltk_data]    |   Unzipping taggers/maxent_treebank_pos_tagger.zip.\n",
            "[nltk_data]    | Downloading package moses_sample to\n",
            "[nltk_data]    |     /root/nltk_data...\n",
            "[nltk_data]    |   Unzipping models/moses_sample.zip.\n",
            "[nltk_data]    | Downloading package movie_reviews to\n",
            "[nltk_data]    |     /root/nltk_data...\n",
            "[nltk_data]    |   Unzipping corpora/movie_reviews.zip.\n",
            "[nltk_data]    | Downloading package mte_teip5 to /root/nltk_data...\n",
            "[nltk_data]    |   Unzipping corpora/mte_teip5.zip.\n",
            "[nltk_data]    | Downloading package mwa_ppdb to /root/nltk_data...\n",
            "[nltk_data]    |   Unzipping misc/mwa_ppdb.zip.\n",
            "[nltk_data]    | Downloading package names to /root/nltk_data...\n",
            "[nltk_data]    |   Unzipping corpora/names.zip.\n",
            "[nltk_data]    | Downloading package nombank.1.0 to /root/nltk_data...\n",
            "[nltk_data]    | Downloading package nonbreaking_prefixes to\n",
            "[nltk_data]    |     /root/nltk_data...\n",
            "[nltk_data]    |   Unzipping corpora/nonbreaking_prefixes.zip.\n",
            "[nltk_data]    | Downloading package nps_chat to /root/nltk_data...\n",
            "[nltk_data]    |   Unzipping corpora/nps_chat.zip.\n",
            "[nltk_data]    | Downloading package omw to /root/nltk_data...\n",
            "[nltk_data]    |   Unzipping corpora/omw.zip.\n",
            "[nltk_data]    | Downloading package omw-1.4 to /root/nltk_data...\n",
            "[nltk_data]    |   Unzipping corpora/omw-1.4.zip.\n",
            "[nltk_data]    | Downloading package opinion_lexicon to\n",
            "[nltk_data]    |     /root/nltk_data...\n",
            "[nltk_data]    |   Unzipping corpora/opinion_lexicon.zip.\n",
            "[nltk_data]    | Downloading package panlex_swadesh to\n",
            "[nltk_data]    |     /root/nltk_data...\n",
            "[nltk_data]    | Downloading package paradigms to /root/nltk_data...\n",
            "[nltk_data]    |   Unzipping corpora/paradigms.zip.\n",
            "[nltk_data]    | Downloading package pe08 to /root/nltk_data...\n",
            "[nltk_data]    |   Unzipping corpora/pe08.zip.\n",
            "[nltk_data]    | Downloading package perluniprops to\n",
            "[nltk_data]    |     /root/nltk_data...\n",
            "[nltk_data]    |   Unzipping misc/perluniprops.zip.\n",
            "[nltk_data]    | Downloading package pil to /root/nltk_data...\n",
            "[nltk_data]    |   Unzipping corpora/pil.zip.\n",
            "[nltk_data]    | Downloading package pl196x to /root/nltk_data...\n",
            "[nltk_data]    |   Unzipping corpora/pl196x.zip.\n",
            "[nltk_data]    | Downloading package porter_test to /root/nltk_data...\n",
            "[nltk_data]    |   Unzipping stemmers/porter_test.zip.\n",
            "[nltk_data]    | Downloading package ppattach to /root/nltk_data...\n",
            "[nltk_data]    |   Unzipping corpora/ppattach.zip.\n",
            "[nltk_data]    | Downloading package problem_reports to\n",
            "[nltk_data]    |     /root/nltk_data...\n",
            "[nltk_data]    |   Unzipping corpora/problem_reports.zip.\n",
            "[nltk_data]    | Downloading package product_reviews_1 to\n",
            "[nltk_data]    |     /root/nltk_data...\n",
            "[nltk_data]    |   Unzipping corpora/product_reviews_1.zip.\n",
            "[nltk_data]    | Downloading package product_reviews_2 to\n",
            "[nltk_data]    |     /root/nltk_data...\n",
            "[nltk_data]    |   Unzipping corpora/product_reviews_2.zip.\n",
            "[nltk_data]    | Downloading package propbank to /root/nltk_data...\n",
            "[nltk_data]    | Downloading package pros_cons to /root/nltk_data...\n",
            "[nltk_data]    |   Unzipping corpora/pros_cons.zip.\n",
            "[nltk_data]    | Downloading package ptb to /root/nltk_data...\n",
            "[nltk_data]    |   Unzipping corpora/ptb.zip.\n",
            "[nltk_data]    | Downloading package punkt to /root/nltk_data...\n",
            "[nltk_data]    |   Unzipping tokenizers/punkt.zip.\n",
            "[nltk_data]    | Downloading package qc to /root/nltk_data...\n",
            "[nltk_data]    |   Unzipping corpora/qc.zip.\n",
            "[nltk_data]    | Downloading package reuters to /root/nltk_data...\n",
            "[nltk_data]    | Downloading package rslp to /root/nltk_data...\n",
            "[nltk_data]    |   Unzipping stemmers/rslp.zip.\n",
            "[nltk_data]    | Downloading package rte to /root/nltk_data...\n",
            "[nltk_data]    |   Unzipping corpora/rte.zip.\n",
            "[nltk_data]    | Downloading package sample_grammars to\n",
            "[nltk_data]    |     /root/nltk_data...\n",
            "[nltk_data]    |   Unzipping grammars/sample_grammars.zip.\n",
            "[nltk_data]    | Downloading package semcor to /root/nltk_data...\n",
            "[nltk_data]    | Downloading package senseval to /root/nltk_data...\n",
            "[nltk_data]    |   Unzipping corpora/senseval.zip.\n",
            "[nltk_data]    | Downloading package sentence_polarity to\n",
            "[nltk_data]    |     /root/nltk_data...\n",
            "[nltk_data]    |   Unzipping corpora/sentence_polarity.zip.\n",
            "[nltk_data]    | Downloading package sentiwordnet to\n",
            "[nltk_data]    |     /root/nltk_data...\n",
            "[nltk_data]    |   Unzipping corpora/sentiwordnet.zip.\n",
            "[nltk_data]    | Downloading package shakespeare to /root/nltk_data...\n",
            "[nltk_data]    |   Unzipping corpora/shakespeare.zip.\n",
            "[nltk_data]    | Downloading package sinica_treebank to\n",
            "[nltk_data]    |     /root/nltk_data...\n",
            "[nltk_data]    |   Unzipping corpora/sinica_treebank.zip.\n",
            "[nltk_data]    | Downloading package smultron to /root/nltk_data...\n",
            "[nltk_data]    |   Unzipping corpora/smultron.zip.\n",
            "[nltk_data]    | Downloading package snowball_data to\n",
            "[nltk_data]    |     /root/nltk_data...\n",
            "[nltk_data]    | Downloading package spanish_grammars to\n",
            "[nltk_data]    |     /root/nltk_data...\n",
            "[nltk_data]    |   Unzipping grammars/spanish_grammars.zip.\n",
            "[nltk_data]    | Downloading package state_union to /root/nltk_data...\n",
            "[nltk_data]    |   Unzipping corpora/state_union.zip.\n",
            "[nltk_data]    | Downloading package stopwords to /root/nltk_data...\n",
            "[nltk_data]    |   Unzipping corpora/stopwords.zip.\n",
            "[nltk_data]    | Downloading package subjectivity to\n",
            "[nltk_data]    |     /root/nltk_data...\n",
            "[nltk_data]    |   Unzipping corpora/subjectivity.zip.\n",
            "[nltk_data]    | Downloading package swadesh to /root/nltk_data...\n",
            "[nltk_data]    |   Unzipping corpora/swadesh.zip.\n",
            "[nltk_data]    | Downloading package switchboard to /root/nltk_data...\n",
            "[nltk_data]    |   Unzipping corpora/switchboard.zip.\n",
            "[nltk_data]    | Downloading package tagsets to /root/nltk_data...\n",
            "[nltk_data]    |   Unzipping help/tagsets.zip.\n",
            "[nltk_data]    | Downloading package timit to /root/nltk_data...\n",
            "[nltk_data]    |   Unzipping corpora/timit.zip.\n",
            "[nltk_data]    | Downloading package toolbox to /root/nltk_data...\n",
            "[nltk_data]    |   Unzipping corpora/toolbox.zip.\n",
            "[nltk_data]    | Downloading package treebank to /root/nltk_data...\n",
            "[nltk_data]    |   Unzipping corpora/treebank.zip.\n",
            "[nltk_data]    | Downloading package twitter_samples to\n",
            "[nltk_data]    |     /root/nltk_data...\n",
            "[nltk_data]    |   Unzipping corpora/twitter_samples.zip.\n",
            "[nltk_data]    | Downloading package udhr to /root/nltk_data...\n",
            "[nltk_data]    |   Unzipping corpora/udhr.zip.\n",
            "[nltk_data]    | Downloading package udhr2 to /root/nltk_data...\n",
            "[nltk_data]    |   Unzipping corpora/udhr2.zip.\n",
            "[nltk_data]    | Downloading package unicode_samples to\n",
            "[nltk_data]    |     /root/nltk_data...\n",
            "[nltk_data]    |   Unzipping corpora/unicode_samples.zip.\n",
            "[nltk_data]    | Downloading package universal_tagset to\n",
            "[nltk_data]    |     /root/nltk_data...\n",
            "[nltk_data]    |   Unzipping taggers/universal_tagset.zip.\n",
            "[nltk_data]    | Downloading package universal_treebanks_v20 to\n",
            "[nltk_data]    |     /root/nltk_data...\n",
            "[nltk_data]    | Downloading package vader_lexicon to\n",
            "[nltk_data]    |     /root/nltk_data...\n",
            "[nltk_data]    | Downloading package verbnet to /root/nltk_data...\n",
            "[nltk_data]    |   Unzipping corpora/verbnet.zip.\n",
            "[nltk_data]    | Downloading package verbnet3 to /root/nltk_data...\n",
            "[nltk_data]    |   Unzipping corpora/verbnet3.zip.\n",
            "[nltk_data]    | Downloading package webtext to /root/nltk_data...\n",
            "[nltk_data]    |   Unzipping corpora/webtext.zip.\n",
            "[nltk_data]    | Downloading package wmt15_eval to /root/nltk_data...\n",
            "[nltk_data]    |   Unzipping models/wmt15_eval.zip.\n",
            "[nltk_data]    | Downloading package word2vec_sample to\n",
            "[nltk_data]    |     /root/nltk_data...\n",
            "[nltk_data]    |   Unzipping models/word2vec_sample.zip.\n",
            "[nltk_data]    | Downloading package wordnet to /root/nltk_data...\n",
            "[nltk_data]    |   Unzipping corpora/wordnet.zip.\n",
            "[nltk_data]    | Downloading package wordnet2021 to /root/nltk_data...\n",
            "[nltk_data]    |   Unzipping corpora/wordnet2021.zip.\n",
            "[nltk_data]    | Downloading package wordnet31 to /root/nltk_data...\n",
            "[nltk_data]    |   Unzipping corpora/wordnet31.zip.\n",
            "[nltk_data]    | Downloading package wordnet_ic to /root/nltk_data...\n",
            "[nltk_data]    |   Unzipping corpora/wordnet_ic.zip.\n",
            "[nltk_data]    | Downloading package words to /root/nltk_data...\n",
            "[nltk_data]    |   Unzipping corpora/words.zip.\n",
            "[nltk_data]    | Downloading package ycoe to /root/nltk_data...\n",
            "[nltk_data]    |   Unzipping corpora/ycoe.zip.\n",
            "[nltk_data]    | \n",
            "[nltk_data]  Done downloading collection all\n"
          ]
        },
        {
          "output_type": "execute_result",
          "data": {
            "text/plain": [
              "True"
            ]
          },
          "metadata": {},
          "execution_count": 1
        }
      ],
      "source": [
        "import nltk\n",
        "nltk.download('all')"
      ]
    },
    {
      "cell_type": "markdown",
      "source": [
        "# Try NLP Libraries"
      ],
      "metadata": {
        "id": "bmAQHG-oe5QQ"
      }
    },
    {
      "cell_type": "markdown",
      "source": [
        "### **word tokenizers**"
      ],
      "metadata": {
        "id": "trBCMQV1e8Mk"
      }
    },
    {
      "cell_type": "code",
      "source": [
        "from nltk.tokenize import word_tokenize\n",
        "txt = 'iam dana a fullstack developer and ai engineer'\n",
        "nlp = word_tokenize(txt)\n",
        "print(nlp)"
      ],
      "metadata": {
        "colab": {
          "base_uri": "https://localhost:8080/"
        },
        "id": "58Dd_BhceU-6",
        "outputId": "b5645014-0ccb-45de-93e3-f785308b5002"
      },
      "execution_count": 7,
      "outputs": [
        {
          "output_type": "stream",
          "name": "stdout",
          "text": [
            "['iam', 'dana', 'a', 'fullstack', 'developer', 'and', 'ai', 'engineer']\n"
          ]
        }
      ]
    },
    {
      "cell_type": "markdown",
      "source": [
        "### **Stop words**"
      ],
      "metadata": {
        "id": "V4528sOjfGUw"
      }
    },
    {
      "cell_type": "code",
      "source": [
        "from nltk.corpus import stopwords\n",
        "from nltk.tokenize import word_tokenize\n",
        "txt = 'iam dana a fullstack developer and ai engineer.'\n",
        "sw = set(stopwords.words('english'))\n",
        "# print(sw)\n",
        "words = word_tokenize(txt)\n",
        "new = []\n",
        "for w in words:\n",
        "  if w not in sw:\n",
        "    new.append(w)\n",
        "\n",
        "print(new)"
      ],
      "metadata": {
        "colab": {
          "base_uri": "https://localhost:8080/"
        },
        "id": "oJ8Bq7hSfIsg",
        "outputId": "e3a90073-329f-450d-87f6-2c2915589dcc"
      },
      "execution_count": 6,
      "outputs": [
        {
          "output_type": "stream",
          "name": "stdout",
          "text": [
            "['iam', 'dana', 'fullstack', 'developer', 'ai', 'engineer', '.']\n"
          ]
        }
      ]
    },
    {
      "cell_type": "markdown",
      "source": [
        "### **Stemming**"
      ],
      "metadata": {
        "id": "pfBJ7TYmh4LF"
      }
    },
    {
      "cell_type": "code",
      "source": [
        "from nltk.stem import PorterStemmer\n",
        "ps = PorterStemmer()\n",
        "txt = ['walk', 'walking', 'walked']\n",
        "\n",
        "for w in txt:\n",
        "  print(ps.stem(w))"
      ],
      "metadata": {
        "colab": {
          "base_uri": "https://localhost:8080/"
        },
        "id": "C-ce3EDph68O",
        "outputId": "4797da28-cf4b-4bbc-9c0b-d4860b2a1e9f"
      },
      "execution_count": 9,
      "outputs": [
        {
          "output_type": "stream",
          "name": "stdout",
          "text": [
            "walk\n",
            "walk\n",
            "walk\n"
          ]
        }
      ]
    },
    {
      "cell_type": "markdown",
      "source": [
        "# working on project"
      ],
      "metadata": {
        "id": "9UGfrlHukWGy"
      }
    },
    {
      "cell_type": "code",
      "source": [
        "import re\n",
        "from nltk.corpus import stopwords\n",
        "from nltk.tokenize import word_tokenize\n",
        "from nltk.stem import PorterStemmer\n",
        "import pandas as pd"
      ],
      "metadata": {
        "id": "HnJ36qSJkb0v"
      },
      "execution_count": 13,
      "outputs": []
    },
    {
      "cell_type": "code",
      "source": [
        "data = pd.read_csv('/content/Restaurant_Reviews.tsv', delimiter='\\t', quoting=1)\n",
        "# print(data)\n",
        "data.head()\n"
      ],
      "metadata": {
        "colab": {
          "base_uri": "https://localhost:8080/",
          "height": 206
        },
        "id": "v-bn1PivlDCp",
        "outputId": "8fdb772d-6c15-4583-d44e-930ede628952"
      },
      "execution_count": 15,
      "outputs": [
        {
          "output_type": "execute_result",
          "data": {
            "text/plain": [
              "                                              Review  Liked\n",
              "0                           Wow... Loved this place.      1\n",
              "1                                 Crust is not good.      0\n",
              "2          Not tasty and the texture was just nasty.      0\n",
              "3  Stopped by during the late May bank holiday of...      1\n",
              "4  The selection on the menu was great and so wer...      1"
            ],
            "text/html": [
              "\n",
              "  <div id=\"df-cbd9a3d9-85ab-4a9d-b065-11b1d418b782\">\n",
              "    <div class=\"colab-df-container\">\n",
              "      <div>\n",
              "<style scoped>\n",
              "    .dataframe tbody tr th:only-of-type {\n",
              "        vertical-align: middle;\n",
              "    }\n",
              "\n",
              "    .dataframe tbody tr th {\n",
              "        vertical-align: top;\n",
              "    }\n",
              "\n",
              "    .dataframe thead th {\n",
              "        text-align: right;\n",
              "    }\n",
              "</style>\n",
              "<table border=\"1\" class=\"dataframe\">\n",
              "  <thead>\n",
              "    <tr style=\"text-align: right;\">\n",
              "      <th></th>\n",
              "      <th>Review</th>\n",
              "      <th>Liked</th>\n",
              "    </tr>\n",
              "  </thead>\n",
              "  <tbody>\n",
              "    <tr>\n",
              "      <th>0</th>\n",
              "      <td>Wow... Loved this place.</td>\n",
              "      <td>1</td>\n",
              "    </tr>\n",
              "    <tr>\n",
              "      <th>1</th>\n",
              "      <td>Crust is not good.</td>\n",
              "      <td>0</td>\n",
              "    </tr>\n",
              "    <tr>\n",
              "      <th>2</th>\n",
              "      <td>Not tasty and the texture was just nasty.</td>\n",
              "      <td>0</td>\n",
              "    </tr>\n",
              "    <tr>\n",
              "      <th>3</th>\n",
              "      <td>Stopped by during the late May bank holiday of...</td>\n",
              "      <td>1</td>\n",
              "    </tr>\n",
              "    <tr>\n",
              "      <th>4</th>\n",
              "      <td>The selection on the menu was great and so wer...</td>\n",
              "      <td>1</td>\n",
              "    </tr>\n",
              "  </tbody>\n",
              "</table>\n",
              "</div>\n",
              "      <button class=\"colab-df-convert\" onclick=\"convertToInteractive('df-cbd9a3d9-85ab-4a9d-b065-11b1d418b782')\"\n",
              "              title=\"Convert this dataframe to an interactive table.\"\n",
              "              style=\"display:none;\">\n",
              "        \n",
              "  <svg xmlns=\"http://www.w3.org/2000/svg\" height=\"24px\"viewBox=\"0 0 24 24\"\n",
              "       width=\"24px\">\n",
              "    <path d=\"M0 0h24v24H0V0z\" fill=\"none\"/>\n",
              "    <path d=\"M18.56 5.44l.94 2.06.94-2.06 2.06-.94-2.06-.94-.94-2.06-.94 2.06-2.06.94zm-11 1L8.5 8.5l.94-2.06 2.06-.94-2.06-.94L8.5 2.5l-.94 2.06-2.06.94zm10 10l.94 2.06.94-2.06 2.06-.94-2.06-.94-.94-2.06-.94 2.06-2.06.94z\"/><path d=\"M17.41 7.96l-1.37-1.37c-.4-.4-.92-.59-1.43-.59-.52 0-1.04.2-1.43.59L10.3 9.45l-7.72 7.72c-.78.78-.78 2.05 0 2.83L4 21.41c.39.39.9.59 1.41.59.51 0 1.02-.2 1.41-.59l7.78-7.78 2.81-2.81c.8-.78.8-2.07 0-2.86zM5.41 20L4 18.59l7.72-7.72 1.47 1.35L5.41 20z\"/>\n",
              "  </svg>\n",
              "      </button>\n",
              "      \n",
              "  <style>\n",
              "    .colab-df-container {\n",
              "      display:flex;\n",
              "      flex-wrap:wrap;\n",
              "      gap: 12px;\n",
              "    }\n",
              "\n",
              "    .colab-df-convert {\n",
              "      background-color: #E8F0FE;\n",
              "      border: none;\n",
              "      border-radius: 50%;\n",
              "      cursor: pointer;\n",
              "      display: none;\n",
              "      fill: #1967D2;\n",
              "      height: 32px;\n",
              "      padding: 0 0 0 0;\n",
              "      width: 32px;\n",
              "    }\n",
              "\n",
              "    .colab-df-convert:hover {\n",
              "      background-color: #E2EBFA;\n",
              "      box-shadow: 0px 1px 2px rgba(60, 64, 67, 0.3), 0px 1px 3px 1px rgba(60, 64, 67, 0.15);\n",
              "      fill: #174EA6;\n",
              "    }\n",
              "\n",
              "    [theme=dark] .colab-df-convert {\n",
              "      background-color: #3B4455;\n",
              "      fill: #D2E3FC;\n",
              "    }\n",
              "\n",
              "    [theme=dark] .colab-df-convert:hover {\n",
              "      background-color: #434B5C;\n",
              "      box-shadow: 0px 1px 3px 1px rgba(0, 0, 0, 0.15);\n",
              "      filter: drop-shadow(0px 1px 2px rgba(0, 0, 0, 0.3));\n",
              "      fill: #FFFFFF;\n",
              "    }\n",
              "  </style>\n",
              "\n",
              "      <script>\n",
              "        const buttonEl =\n",
              "          document.querySelector('#df-cbd9a3d9-85ab-4a9d-b065-11b1d418b782 button.colab-df-convert');\n",
              "        buttonEl.style.display =\n",
              "          google.colab.kernel.accessAllowed ? 'block' : 'none';\n",
              "\n",
              "        async function convertToInteractive(key) {\n",
              "          const element = document.querySelector('#df-cbd9a3d9-85ab-4a9d-b065-11b1d418b782');\n",
              "          const dataTable =\n",
              "            await google.colab.kernel.invokeFunction('convertToInteractive',\n",
              "                                                     [key], {});\n",
              "          if (!dataTable) return;\n",
              "\n",
              "          const docLinkHtml = 'Like what you see? Visit the ' +\n",
              "            '<a target=\"_blank\" href=https://colab.research.google.com/notebooks/data_table.ipynb>data table notebook</a>'\n",
              "            + ' to learn more about interactive tables.';\n",
              "          element.innerHTML = '';\n",
              "          dataTable['output_type'] = 'display_data';\n",
              "          await google.colab.output.renderOutput(dataTable, element);\n",
              "          const docLink = document.createElement('div');\n",
              "          docLink.innerHTML = docLinkHtml;\n",
              "          element.appendChild(docLink);\n",
              "        }\n",
              "      </script>\n",
              "    </div>\n",
              "  </div>\n",
              "  "
            ]
          },
          "metadata": {},
          "execution_count": 15
        }
      ]
    },
    {
      "cell_type": "code",
      "source": [
        "filters = set(stopwords.words('english'))\n",
        "ps = PorterStemmer()\n"
      ],
      "metadata": {
        "id": "WYW9WcWnmWon"
      },
      "execution_count": 18,
      "outputs": []
    },
    {
      "cell_type": "code",
      "source": [
        "print(len(data))"
      ],
      "metadata": {
        "colab": {
          "base_uri": "https://localhost:8080/"
        },
        "id": "unBKfS9_mqXs",
        "outputId": "b4d9f526-fa48-4278-c8e6-63d86babe31c"
      },
      "execution_count": 19,
      "outputs": [
        {
          "output_type": "stream",
          "name": "stdout",
          "text": [
            "1000\n"
          ]
        }
      ]
    },
    {
      "cell_type": "markdown",
      "source": [
        "### **NLP**"
      ],
      "metadata": {
        "id": "QlcgScWdnZyy"
      }
    },
    {
      "cell_type": "code",
      "source": [
        "reviews = []\n",
        "for i in range (len(data)):\n",
        "  cleaned = re.sub('^[a-zA-Z]','',data['Review'][i])\n",
        "  cleaned = cleaned.lower()\n",
        "  cleaned = word_tokenize(cleaned)\n",
        "  cleaned = [ps.stem(word) for word in cleaned if word not in filters]\n",
        "  cleaned = \" \".join(cleaned)\n",
        "  reviews.append(cleaned)\n",
        "print(reviews)"
      ],
      "metadata": {
        "colab": {
          "base_uri": "https://localhost:8080/"
        },
        "id": "ICIjaZ-4mutL",
        "outputId": "8824296a-601d-4c66-9f67-a74373fd2bdb"
      },
      "execution_count": 29,
      "outputs": [
        {
          "output_type": "stream",
          "name": "stdout",
          "text": [
            "['ow ... love place .', 'rust good .', 'ot tasti textur nasti .', 'top late may bank holiday rick steve recommend love .', 'select menu great price .', 'ow get angri want damn pho .', \"oneslti n't tast fresh . )\", 'potato like rubber could tell made ahead time kept warmer .', 'fri great .', 'great touch .', 'ervic prompt .', 'ould go back .', 'cashier care ever say still end wayyy overpr .', 'tri cape cod ravoli , chicken , cranberri ... mmmm !', 'disgust pretti sure human hair .', 'shock sign indic cash .', 'ighli recommend .', 'aitress littl slow servic .', 'place worth time , let alon vega .', 'id like .', 'burritto blah !', 'food , amaz .', 'ervic also cute .', 'could care less ... interior beauti .', 'perform .', \"hat 's right ... .the red velvet cake ... ..ohhh stuff good .\", '- never brought salad ask .', 'hole wall great mexican street taco , friendli staff .', 'ook hour get food 4 tabl restaur food luke warm , sever run around like total overwhelm .', 'worst salmon sashimi .', 'lso combo like burger , fri , beer 23 decent deal .', 'like final blow !', 'found place accid could happier .', 'eem like good quick place grab bite familiar pub food , favor look elsewher .', 'veral , like place lot .', 'redeem qualiti restaur inexpens .', 'mple portion good price .', 'oor servic , waiter made feel like stupid everi time came tabl .', 'first visit hiro delight !', 'ervic suck .', 'shrimp tender moist .', 'deal good enough would drag establish .', \"ard judg whether side good gross melt styrofoam n't want eat fear get sick .\", 'n posit note , server attent provid great servic .', 'rozen puck disgust , worst peopl behind regist .', 'thing like prime rib dessert section .', \"'s bad food damn gener .\", 'burger good beef , cook right .', 'f want sandwich go firehous ! ! ! ! !', 'side greek salad greek dress tasti , pita hummu refresh .', 'e order duck rare pink tender insid nice char outsid .', 'e came run us realiz husband left sunglass tabl .', 'heir chow mein good !', \"hey horribl attitud toward custom , talk one custom n't enjoy food .\", 'portion huge !', 'ove ... friendli server , great food , wonder imagin menu .', 'heart attack grill downtown vega absolut flat-lin excus restaur .', 'ot much seafood like 5 string pasta bottom .', 'salad right amount sauc power scallop , perfectli cook .', 'rip banana rip , petrifi tasteless .', 'least think refil water struggl wave 10 minut .', 'place receiv star appet ! ! !', 'cocktail handmad delici .', \"e 'd definit go back .\", 'e glad found place .', 'reat food servic , huge portion give militari discount .', 'lway great time do gringo !', 'pdate ... ..went back second time still amaz', 'e got food appar never heard salt batter fish chewi .', 'great way finish great .', 'deal includ 5 tast 2 drink , jeff went beyond expect .', '- realli , realli good rice , time .', 'servic meh .', 'took 30 min get milkshak , noth chocol milk .', \"guess known place would suck , insid excalibur , n't use common sens .\", 'scallop dish quit appal valu well .', '2 time - bad custom servic !', 'sweet potato fri good season well .', \"oday second time 've lunch buffet pretti good .\", 'much good food vega feel cheat wast eat opportun go rice compani .', \"ome like experienc underwhelm relationship parti ca n't wait person ask break .\", 'alk place smell like old greas trap 2 other eat .', 'turkey roast beef bland .', 'place !', 'pan cake everyon rave tast like sugari disast tailor palat six year old .', 'love pho spring roll oh yummi tri .', 'poor batter meat ratio made chicken tender unsatisfi .', 'say food amaz ! ! !', 'melet die !', 'veryth fresh delici !', 'n summari , larg disappoint dine experi .', \"'s like realli sexi parti mouth , 're outrag flirt hottest person parti .\", 'ever hard rock casino , never ever step forward !', 'est breakfast buffet ! ! !', 'ay bye bye tip ladi !', \"e 'll never go .\", 'ill back !', 'ood arriv quickli !', 'good .', 'n side , cafe serv realli good food .', 'ur server fantast found wife love roast garlic bone marrow , ad extra meal anoth marrow go !', \"good thing waiter , help kept bloddi mari 's come .\", 'est buffet town , price beat .', 'love mussel cook wine reduct , duck tender , potato dish delici .', 'one better buffet .', 'went tigerlilli fantast afternoon !', 'food delici , bartend attent person got great deal !', 'ambienc wonder music play .', 'ill go back next trip .', 'ooooo good ! !', \"eal sushi lover , let 's honest - yama good .\", \"least 40min pass us order food arriv , n't busi .\", 'realli fantast thai restaur definit worth visit .', 'ice , spici tender .', 'ood price .', 'heck .', 'pretti gross !', \"'ve better atmospher .\", 'ind hard mess steak .', 'lthough much like look sound place , actual experi bit disappoint .', \"n't know place manag serv blandest food ever eaten prepar indian cuisin .\", 'orst servic boot , least worri .', 'ervic fine waitress friendli .', \"guy steak , steak love son steak best worst place said best steak 's ever eaten .\", \"e thought 'd ventur away get good sushi , place realli hit spot night .\", 'ost staff , lack better word , bitch !', \"land ... like place number reason n't want wast time bad reviewing.. 'll leav ...\", 'henomen food , servic ambianc .', \"would n't return .\", \"efinit worth ventur strip pork belli , return next time 'm vega .\", 'place way overpr mediocr food .', 'enn vodka excel !', 'hey good select food includ massiv meatloaf sandwich , crispi chicken wrap , delish tuna melt tasti burger .', 'manag rude .', 'elici nyc bagel , good select cream chees , real lox caper even .', \"reat subway , fact 's good come everi subway meet expect .\", 'serious solid breakfast .', 'one best bar food vega .', 'e extrem rude realli , mani restaur would love dine weekend vega .', 'drink never empti made realli great menu suggest .', \"n't ! ! ! !\", \"waiter n't help friendli rare check us .\", 'husband ate lunch disappoint food servic .', \"nd red curri much bamboo shoot n't tasti .\", 'ice blanket moz top feel like done cover subpar food .', 'bathroom clean place well decor .', 'menu alway chang , food qualiti go & servic extrem slow .', 'servic littl slow , consid serv 3 peopl server food come slow pace .', 'give 2 thumb', 'e watch waiter pay lot attent tabl ignor us .', 'fiancé came middl day greet seat right away .', 'great restaur mandalay bay .', 'e wait forti five minut vain .', 'rostini came salad stale .', 'ome highlight : great qualiti nigiri !', 'staff friendli joint alway clean .', 'differ cut piec day still wonder tender well well flavor .', \"order voodoo pasta first time 'd realli excel pasta sinc go gluten free sever year ago .\", 'place good .', 'nfortun , must hit bakeri leftov day everyth order stale .', 'came back today sinc reloc still impress .', 'seat immedi .', 'heir menu divers , reason price .', 'void cost !', 'estaur alway full never wait .', 'elici ! !', 'place hands-down one best place eat phoenix metro area .', \"n't go look good food ...\", \"'ve never treat bad .\", 'acon hella salti .', 'e also order spinach avocado salad , ingredi sad dress liter zero tast .', 'realli vega fine dine use , right menu hand ladi price list .', 'waitress friendli .', 'ordi , khao soi dish miss curri lover !', 'veryth menu terrif also thrill made amaz accommod vegetarian daughter .', \"erhap caught night judg review , 'm inspir go back .\", 'servic leav lot desir .', 'atmospher modern hip , maintain touch cozi .', 'ot weekli haunt , definit place come back everi .', 'e liter sat 20 minut one ask take order .', 'burger absolut flavor - meat total bland , burger overcook charcoal flavor .', 'also decid send back waitress look like verg heart attack .', 'dress treat rude !', 'probabl dirt .', 'ove place , hit spot want someth healthi lack quantiti flavor .', 'order lemon raspberri ice cocktail also incred .', 'food suck , expect suck could imagin .', 'nterest decor .', 'hat realli like crepe station .', 'lso serv hot bread butter , home made potato chip bacon bit top ... .veri origin good .', 'ou watch prepar delici food ! )', 'oth egg roll fantast .', 'hen order arriv , one gyro miss .', 'salad wing , ice cream dessert left feel quit satisfi .', \"'m realli sure joey 's vote best hot dog valley reader phoenix magazin .\", 'best place go tasti bowl pho !', 'live music friday total blow .', \"'ve never insult felt disrespect .\", 'eri friendli staff .', 'worth drive .', 'heard good thing place , exceed everi hope could dream .', 'ood great serivc !', \"warm beer n't help .\", 'reat brunch spot .', 'ervic friendli invit .', 'eri good lunch spot .', \"'ve live sinc 1979 first ( last ) time 've step foot place .\", 'worst experi ever .', 'ust night place .', 'side delish - mix mushroom , yukon gold pure , white corn - beateou .', 'f bug never show would given 4 sure , side wall bug climb kitchen .', \"10 minut , 're wait salad realiz n't come time soon .\", 'friend love salmon tartar .', \"n't go back .\", 'xtreme tasti !', 'aitress good though !', 'oggi good .', 'jamaican mojito delici .', 'hich small worth price .', '- food rich order accordingli .', \"shower area outsid rins , take full shower , unless n't mind nude everyon see !\", 'servic bit lack .', 'obster bisqu , bussel sprout , risotto , filet need salt pepper..and cours none tabl .', 'ope bode go busi someon cook come .', 'either cold , enough flavor bad .', 'love bacon wrap date .', 'unbeliev bargain !', 'folk otto alway make us feel welcom special .', \"`` main , '' also uninspir .\", 'place first pho amaz ! !', 'wonder experi made place must-stop whenev town .', \"f food n't bad enough , enjoy deal world 's worst/annoy drunk peopl .\", 'eri fun chef .', 'rdere doubl cheeseburg & got singl patti fall apart ( pictur upload ) yeah , still suck .', \"reat place coupl drink watch sport event wall cover tv 's .\", \"f possibl give zero star , 'd .\", \"descript said `` yum yum sauc '' anoth said `` eel sauc '' , yet anoth said `` spici mayo '' ... well none roll sauc .\", \"'d say would hardest decis ... honestli , 's dish tast suppos tast ( amaz ) .\", 'f roll eye may stay ... sure go back tri .', 'veryon attent , provid excel custom servic .', \"orribl - n't wast time money .\", 'ow dish quit flavour .', 'time side restaur almost empti excus .', \"( n't busi either ) also , build freez cold .\", \"ike review said `` could n't pay eat place . ''\", '-drink took close 30 minut come one point .', 'erious flavor delight , folk .', 'uch better ayc sushi place went vega .', 'light dark enough set mood .', \"ase sub-par servic receiv effort show gratitud busi wo n't go back .\", \"wner 's realli great peopl . !\", 'noth privileg working/ .', 'greek dress creami flavor .', \"veral , n't think would take parent place made similar complaint silent felt .\", 'ow pizza good peanut sauc tasti .', 'e 7 tabl servic pretti fast .', 'antast servic .', \"well would 've given godfath zero star possibl .\", 'hey know make .', 'eri tough short flavor !', 'hope place stick around .', 'bar vega , ever recal charg tap water .', 'restaur atmospher exquisit .', 'ood servic , clean , inexpens , boot !', 'seafood fresh gener portion .', \"lu , 's 8 buck .\", 'servic par , either .', 'hu far , visit twice food absolut delici time .', 'ust good year ago !', 'self proclaim coffe cafe , wildli disappoint .', 'veggitarian platter world !', 'ou cant go wrong food .', \"ou ca n't beat .\", 'top place madison ironman , friendli , kind staff .', 'chef friendli good job .', \"'ve better , dedic boba tea spot , even jenni pho .\", 'like patio servic outstand .', \"goat taco n't skimp meat wow flavor !\", 'think', 'mac salad pretti bland get .', \"went bachi burger friend 's recommend disappoint .\", 'ervic stink !', 'wait wait .', 'place qualiti sushi , qualiti restaur .', 'would definit recommend wing well pizza .', 'reat pizza salad !', 'hing went wrong : - burn saganaki .', 'e wait hour breakfast could done 100 time better home .', 'place amaz !', 'hate disagre fellow yelper , husband disappoint place .', 'ait 2 hour & never got either pizza mani around us came later !', \"ust n't know slow .\", 'staff great , food delish , incred beer select .', \"live neighborhood disappoint wo n't back , conveni locat .\", \"n't know pull pork could soooo delici .\", 'ou get incred fresh fish , prepar care .', 'efor go gave 1 star rate pleas know third time eat bachi burger write review .', 'love fact everyth menu worth .', 'ever dine place !', 'food excel servic good .', 'ood beer & drink select good food select .', 'leas stay away shrimp stir fri noodl .', 'potato chip order sad ... could probabl count mani chip box probabl around 12 .', 'ood realli bore .', 'ood service-check !', 'greedi corpor never see anoth dime !', 'ill never , ever go back .', \"much 'd like go back , ca n't get pass atroci servic never return .\", 'n summer , dine charm outdoor patio - delight .', 'expect good !', 'antast food !', 'order toast english muffin came untoast .', 'food good .', 'ever go back .', 'reat food price , high qualiti hous made .', 'bu boy hand rude .', \"point , friend basic figur place joke n't mind make publicli loudli known .\", 'ack good bbq , lighter fare , reason price tell public back old way .', \"nd consid two us left full happi $ 20 , ca n't go wrong .\", 'bread made in-hous !', 'downsid servic .', \"lso , fri without doubt worst fri 've ever .\", 'ervic except food good review .', 'coupl month later , return amaz meal .', 'avorit place town shawarrrrrrma ! ! ! ! ! !', 'black eye pea sweet potato ... unreal !', \"ou wo n't disappoint .\", 'hey could serv vinaigrett may make better overal dish , still good .', \"go far mani place 've never seen restaur serv 1 egg breakfast , especi $ 4.00 .\", 'hen mom got home immedi got sick bite salad .', \"server pleasant deal n't alway honor pizza hut coupon .\", 'oth truli unbeliev good , glad went back .', 'e fantast servic , pleas atmospher .', 'veryth gross .', 'love place .', 'reat servic food .', 'irst - bathroom locat dirty- seat cover replenish & plain yucki ! ! !', \"burger ... got `` gold standard '' $ 17 burger kind disappoint .\", 'mg , food delicioso !', 'noth authent place .', 'spaghetti noth special whatsoev .', 'f dish , salmon best , great .', 'veget fresh sauc feel like authent thai .', \"'s worth drive tucson !\", \"select probabl worst 've seen vega ... ..there none .\", 'retti good beer select .', 'place like chipotl , better .', 'lassy/warm atmospher , fun fresh appet , succul steak ( basebal steak ! ! ! ! !', '5 star brick oven bread app !', 'eaten multipl time , time food delici .', 'e sat anoth ten minut final gave left .', 'e terribl !', 'veryon treat equal special .', \"n't take 30 min pancak egg .\", 'delici ! ! !', 'n good side , staff genuin pleasant enthusiast - real treat .', \"adli , gordon ramsey 's steak place shall sharpli avoid next trip vega .\", 'alway even wonder food delici !', \"est fish 've ever life !\", '( bathroom next door nice . )', 'buffet small food offer bland .', 'outstand littl restaur best food ever tast .', 'retti cool would say .', \"efinit turn & doubt 'll back unless someon els buy .\", 'erver great job handl larg rowdi tabl .', \"find wast food despic , n't food .\", 'wife lobster bisqu soup lukewarm .', 'ould come back sushi crave vega .', 'staff great , ambianc great .', 'e deserv 5 star .', 'left stomach ach felt sick rest day .', 'hey drop ball .', 'dine space tini , elegantli decor comfort .', \"hey custom order way 'd like , usual eggplant green bean stir fri , love !\", 'nd bean rice mediocr best .', 'est taco town far ! !', 'took back money got outta .', 'n interest part town , place amaz .', 'ude & inconsider manag .', 'staff friendli , wait time serv horribl , one even say hi first 10 minut .', \"wo n't back .\", 'hey great dinner .', 'servic outshin & definit recommend halibut .', 'food terribl .', 'ill never ever go back told mani peopl happen .', \"n't recommend unless car break front starv .\", \"come back everi time 'm vega .\", 'place deserv one star 90 % food .', 'disgrac .', 'ef come back bowl next time', 'f want healthi authent ethic food , tri place .', 'continu come ladi night andddd date night ... highli recommend place anyon area .', 'sever time past , experi alway great .', 'e walk away stuf happi first vega buffet experi .', 'ervic excel price pretti reason consid vega locat insid crystal shop mall aria .', 'summar ... food incred , nay , transcend ... noth bring joy quit like memori pneumat condiment dispens .', \"'m probabl one peopl ever go ian like .\", 'id pizza alway hit lot great side dish option kiddo !', 'ervic perfect famili atmospher nice see .', 'ook perfect servic impecc .', 'one simpli disappoint .', 'veral , disappoint qualiti food bouchon .', \"n't account know 'm get screw !\", 'reat place eat , remind littl mom pop shop san francisco bay area .', 'oday first tast buldogi gourmet hot dog tell ever thought possibl .', 'eft frustrat .', \"'ll definit soon .\", 'ood realli good got full petti fast .', 'ervic fantast .', 'otal wast time .', \"n't know kind best ice tea .\", 'ome hungri , leav happi stuf !', 'servic , give star .', \"assur wo n't disappoint .\", 'take littl bad servic food suck .', 'ave tri eat crust ( teeth still sore ) .', 'ut complet gross .', 'realli enjoy eat .', 'irst time go think quickli becom regular .', 'ur server nice , even though look littl overwhelm need , stay profession friendli end .', 'rom dinner companion told ... everyth fresh nice textur tast .', 'n ground , right next tabl larg , smear , been-stepped-in-and-tracked-everywher pile green bird poop .', \"urthermor , ca n't even find hour oper websit !\", \"e 've tri like place 10+ time think 're done .\", 'hat mistak !', 'complaint !', \"serious good pizza 'm expert/connisseur topic .\", 'aiter jerk .', 'trike 2 , want rush .', \"hese nicest restaur owner 've ever come across .\", 'never come .', 'e love biscuit ! ! !', 'ervic quick friendli .', 'rdere appet took 40 minut pizza anoth 10 minut .', 'absolutley fantast .', 'huge awkward 1.5lb piec cow 3/4th gristl fat .', 'efinit come back .', \"like steiner 's dark feel like bar .\", 'ow spici delici .', \"f 're familiar , check .\", \"'ll take busi dinner dollar elsewher .\", \"'d love go back .\", 'nyway , fs restaur wonder breakfast/lunch .', 'oth special .', \"ach day week differ deal 's delici !\", 'ot mention combin pear , almond bacon big winner !', 'ill back .', 'auc tasteless .', 'food delici spici enough , sure ask spicier prefer way .', 'ribey steak cook perfectli great mesquit flavor .', \"n't think 'll go back anytim soon .\", 'ood gooodd .', 'far sushi connoisseur definit tell differ good food bad food certainli bad food .', 'insult .', 'last 3 time lunch bad .', 'chicken wing contain driest chicken meat ever eaten .', 'food good enjoy everi mouth , enjoy relax venu coupl small famili group etc .', 'argil - think great .', 'est tater tot southwest .', 'e love place .', 'efinit worth $ 3 paid .', 'vanilla ice cream creami smooth profiterol ( choux ) pastri fresh enough .', 'az time new spot .', 'manag worst .', 'insid realli quit nice clean .', 'food outstand price reason .', \"n't think 'll run back carli 's anytim soon food .\", 'due fact took 20 minut acknowledg , anoth 35 minut get food ... kept forget thing .', 'ove margarita , !', 'first vega buffet disappoint .', 'eri good , though !', 'one note ventil could use upgrad .', 'reat pork sandwich .', \"n't wast time .\", 'otal letdown , would much rather go camelback flower shop cartel coffe .', \"hird , chees friend 's burger cold .\", 'e enjoy pizza brunch .', 'steak well trim also perfectli cook .', 'e group 70+ claim would 40 handl us beauti .', 'love !', \"e ask bill leav without eat n't bring either .\", \"place jewel la vega , exactli 've hope find nearli ten year live .\", 'eafood limit boil shrimp crab leg crab leg definit tast fresh .', 'select food best .', 'elici absolut back !', \"n't small famili restaur , fine dine establish .\", 'hey toro tartar cavier extraordinari like thinli slice wagyu white truffl .', 'dont think back long time .', 'attach ga station , rare good sign .', 'ow awesom .', 'back mani time soon .', 'menu much good stuff could decid !', 'ors , humili worker right front me..bunch horribl name call .', 'onclus : fill meal .', 'heir daili special alway hit group .', 'nd tragedi struck .', 'pancak also realli good pretti larg .', 'first crawfish experi , delici !', 'heir monster chicken fri steak egg time favorit .', 'aitress sweet funni .', \"also tast mom 's multi-grain pumpkin pancak pecan butter amaz , fluffi , delici !\", \"'d rather eat airlin food , serious .\", 'ant say enough good thing place .', 'ambianc incred .', 'waitress manag friendli .', 'would recommend place .', \"veral n't impress noca .\", 'gyro basic lettuc .', 'erribl servic !', 'horoughli disappoint !', \"n't much pasta , love homemad /hand made pasta thin pizza .\", 'ive tri , happi .', 'far best cheesecurd ever !', 'eason price also !', 'veryth perfect night .', 'food good typic bar food .', 'drive get .', 'first glanc love bakeri cafe - nice ambianc , clean , friendli staff .', 'nyway , think go back .', \"oint finger item menu , order wo n't disappoint .\", 'h thing beauti , restaur .', \"f n't gone go !\", 'greasi , unhealthi meal .', 'irst time might last .', 'hose burger amaz .', 'imilarli , deliveri man say word apolog food 45 minut late .', 'nd way expens .', 'e sure order dessert , even need pack to-go - tiramisu cannoli die .', \"first time ca n't wait next .\", 'bartend also nice .', 'veryth good tasti !', 'place two thumb ... .way .', 'best place vega breakfast ( check sat , sun .', 'f love authent mexican food want whole bunch interest , yet delici meat choos , need tri place .', 'erribl manag .', 'n excel new restaur experienc frenchman .', 'f zero star would give zero star .', 'reat steak , great side , great wine , amaz dessert .', 'orst martini ever !', 'steak shrimp opinion best entre gc .', 'opportun today sampl amaz pizza !', 'e wait thirti minut seat ( although 8 vacant tabl folk wait ) .', 'yellowtail carpaccio melt mouth fresh .', \"wo n't tri go back even 's empti .\", \", 'm go eat potato found stranger hair .\", 'ust spici enough.. perfect actual .', 'ast night second time dine happi decid go back !', \"ot even `` hello , right . ''\", 'dessert bit strang .', 'boyfriend came first time recent trip vega could pleas qualiti food servic .', 'realli recommend place , go wrong donut place !', 'ice ambianc .', 'would recommend save room !', 'guess mayb went night disgrac .', 'owev , recent experi particular locat good .', 'know like restaur , someth !', 'void establish !', 'think restaur suffer tri hard enough .', 'tapa dish delici !', '*heart* place .', 'salad bland vinegrett babi green heart palm .', 'fter two felt disgust .', 'good time !', 'believ place great stop huge belli hanker sushi .', 'ener portion great tast .', 'never go back place never ever recommend place anyon !', \"server went back forth sever time , even much `` help ? ''\", 'ood delici !', 'n hour ... serious ?', 'consid theft .', 'ew ... locat need complet overhaul .', 'e recent wit poor qualiti manag toward guest well .', 'ait wait wait .', 'e also came back check us regularli , excel servic .', 'ur server super nice check us mani time .', 'pizza tast old , super chewi good way .', 'swung give tri deepli disappoint .', 'ervic good compani better !', 'staff also friendli effici .', \"servic : 'm fan , 's quick 're serv nice folk .\", 'oy sucker dri ! ! .', 'ver rate .', 'f look authent thai food , go els .', 'heir steak 100 % recommend !', 'fter pull car wait anoth 15 minut acknowledg .', 'reat food great servic clean friendli set .', \", assur 'll back .\", 'hate thing much cheap qualiti black oliv .', 'breakfast perpar great , beauti present 3 giant slice toast , lightli dust powder sugar .', 'kid play area nasti !', 'reat place fo take eat .', 'waitress friendli happi accomod vegan/veggi option .', 'mg felt like never eaten thai food dish .', \"extrem `` crumbi '' pretti tasteless .\", 'pale color instead nice char flavor .', 'crouton also tast homemad extra plu .', 'got home see driest damn wing ever !', \"'ll regular stop trip phoenix !\", 'realli enjoy crema café expand . even told friend best breakfast .', 'ot good money .', 'miss wish one philadelphia !', 'e got sit fairli fast , , end wait 40 minut place order , anoth 30 minut food arriv .', 'hey also best chees crisp town .', 'ood valu , great food , great servic .', \"ould n't ask satisfi meal .\", 'food good .', 'awesom .', 'want leav .', 'e made drive way north scottsdal ... one bit disappoint !', 'eat .', '! ... .the owner realli realli need quit soooooo cheap let wrap freak sandwich two paper one !', 'check place coupl year ago impress .', 'chicken got definit reheat ok , wedg cold soggi .', 'orri , get food anytim soon : (', 'n absolut must visit !', 'cow tongu cheek taco amaz .', 'friend like bloodi mari .', 'espit hard rate busi , actual rare give 1 star .', 'hey realli want make experi good one .', 'return .', 'chicken pho tast bland .', 'eri disappoint ! ! !', 'grill chicken tender yellow saffron season .', 'drive thru mean want wait around half hour food , somehow end go make us wait wait .', 'retti awesom place .', 'mbienc perfect .', 'est luck rude non-custom servic focus new manag .', 'ny grandmoth make roast chicken better one .', 'ask multipl time wine list time ignor went hostess got one .', 'staff alway super friendli help , especi cool bring two small boy babi !', 'star food & guy blue shirt great vibe & still let us eat !', 'roast beef sandwich tast realli good !', 'ame even , drastic sick .', 'igh-qual chicken chicken caesar salad .', \"rdere burger rare came 'll done .\", 'e promptli greet seat .', 'rie go lunch madhous .', 'proven dead wrong sushi bar , qualiti great , servic fast food , impecc .', 'fter wait hour seat , greatest mood .', 'good joint .', 'macaron insan good .', \"'m eat !\", 'ur waiter attent , friendli , inform .', \"ayb n't cold would somewhat edibl .\", 'place lot promis fail deliv .', 'eri bad experi !', 'hat mistak .', 'ood averag best .', 'reat food .', \"e wo n't go back anytim soon !\", 'eri disappoint order $ 35 big bay plater .', 'reat place relax awesom burger beer .', 'perfect sit-down famili meal get togeth friend .', 'ot much flavor , poorli construct .', 'patio seat comfort .', 'fri rice dri well .', 'and favorit italian restaur !', \"hat scream `` legit '' book ... somethat 's also pretti rare vega .\", 'fun experi .', 'atmospher great love duo violinist play song request .', \"person love hummu , pita , baklava , falafel baba ganoush ( 's amaz eggplant ! ) .\", 'eri conveni , sinc stay mgm !', 'owner super friendli staff courteou .', 'oth great !', 'clectic select .', 'sweet potato tot good onion ring perfect close .', 'staff attent .', 'nd chef gener time ( even came around twice take pictur ) .', 'owner use work nobu , place realli similar half price .', 'oogl mediocr imagin smashburg pop .', 'ont go .', \"promis wo n't disappoint .\", 'sushi lover avoid place mean .', 'hat great doubl cheeseburg !', 'wesom servic food .', 'fantast neighborhood gem ! ! !', \"ca n't wait go back .\", \"plantain worst 've ever tast .\", \"'s great place highli recommend .\", 'ervic slow attent .', \"gave 5 star , 'm give 5 star .\", 'staff spend time talk .', 'essert : panna cotta amaz .', 'eri good food , great atmosphere.1', 'amn good steak .', 'otal brunch fail .', 'rice reason , flavor spot , sauc home made , slaw drench mayo .', 'decor nice , piano music soundtrack pleasant .', 'steak amaz ... rge fillet relleno best seafood plate ever !', 'ood food , good servic .', 'absolut amaz .', \"probabl wo n't back , honest .\", 'ill definit back !', 'sergeant pepper beef sandwich auju sauc excel sandwich well .', \"awaiian breez , mango magic , pineappl delight smoothi 've tri far 're good .\", 'ent lunch - servic slow .', 'e much say place walk expect amaz , quickli disappoint .', 'mortifi .', 'eedless say , never back .', 'nyway , food definit fill , price pay expect .', 'chip came drip greas , mostli edibl .', \"n't realli impress strip steak .\", 'ave go sinc 2007 everi meal awesom ! !', 'ur server nice attent serv staff .', 'cashier friendli even brought food .', 'work hospit industri paradis valley refrain recommend cibo longer .', 'atmospher fun .', 'ould recommend other .', \"ervic quick even `` go '' order like like !\", \"mean realli , get famou fish chip 's terribl ! ? !\", 'hat said , mouth belli still quit pleas .', 'ot thing .', '2 thumb ! !', \"f read pleas n't go .\", 'love grill pizza , remind legit italian pizza .', 'nli pro : larg seat area/ nice bar area/ great simpl drink menu/ best brick oven pizza homemad dough !', 'hey realli nice atmospher .', 'onight elk filet special ... suck .', 'fter one bite , hook .', 'e order old classic new dish go time sore disappoint everyth .', 'ute , quaint , simpl , honest .', 'chicken delici season perfect fri outsid moist chicken insid .', 'food great alway , compliment chef .', 'pecial thank dylan t. recommend order : ) yummi tummi .', 'wesom select beer .', 'reat food awesom servic !', \"ne nice thing ad gratuiti bill sinc parti larger 6 8 , n't expect tip .\", 'fli appl juice.. fli ! ! ! ! ! ! ! !', 'han nan chicken also tasti .', 'servic , thought good .', 'food bare lukewarm , must sit wait server bring us .', \"yan 's bar definit one edinburgh establish wo n't revisit .\", \"icest chines restaur 've .\", 'veral , like food servic .', 'hey also serv indian naan bread hummu spici pine nut sauc world .', \"robabl never come back , would n't recommend .\", \"riend 's pasta -- also bad , bare touch .\", 'ry airport experi tasti food speedi , friendli servic .', 'love decor chines calligraphi wall paper .', 'ever anyth complain .', 'restaur clean famili restaur feel .', 'way fri .', \"'m sure long stood long enough begin feel awkwardli place .\", 'hen open sandwich , impress , good way .', 'ill back !', 'warm feel servic felt like guest special treat .', 'n extens menu provid lot option breakfast .', 'alway order vegetarian menu dinner , wide array option choos .', 'watch price inflat , portion get smaller manag attitud grow rapidli !', 'onder lil tapa ambienc made feel warm fuzzi insid .', 'got enjoy seafood salad , fabul vinegrett .', 'wonton thin , thick chewi , almost melt mouth .', \"evel 5 spici perfect , spice n't over-whelm soup .\", 'e sat right time server get go fantast !', \"thing n't enjoy crowd older crowd , around mid 30 .\", \"hen 'm side town , definit spot 'll hit !\", 'wait 30 minut get drink longer get 2 arepa .', 'great place eat !', 'jalapeno bacon soooo good .', 'servic poor that nice .', 'ood good , servic good , price good .', 'place clean food oh stale !', 'chicken dish ok , beef like shoe leather .', 'ut servic beyond bad .', \"'m happi ! ! ! ''\", 'ast like dirt .', 'ne place phoenix would defin go back .', 'block amaz .', \"'s close hous , 's low-key , non-fanc , afford price , good food .\", '* hot & sour & egg flower soup absolut 5 star !', 'sashimi poor qualiti soggi tasteless .', 'reat time - famili dinner sunday night .', \"food tasti , say `` real tradit hunan style '' .\", 'hat bother , slow servic .', 'flair bartend absolut amaz !', 'heir frozen margarita way sugari tast .', 'hese good order twice .', 'nutshel : 1 ) restaraunt smell like combin dirti fish market sewer .', \"girlfriend 's veal bad .\", 'nfortun , good .', 'pretti satifi experi .', 'oin club get awesom offer via email .', 'erfect someon ( ) like beer ice cold , case , even colder .', 'land flavorless good way describ bare tepid meat .', \"chain , 'm fan , beat place easili .\", 'nacho must !', 'e come back .', \"n't mani word say place , everyth pretti well .\", 'staff super nice quick even crazi crowd downtown juri , lawyer , court staff .', 'reat atmospher , friendli fast servic .', 'hen receiv pita huge lot meat thumb .', \"nce food arriv 's meh .\", \"aye $ 7.85 hot dog fri look like came kid 's meal wienerschnitzel idea good meal .\", 'classic main lobster roll fantast .', 'brother law work mall ate day , guess sick night .', 'good go review place twice - herea tribut place tribut event held last night .', 'chip salsa realli good , salsa fresh .', 'place great ! ! ! ! ! ! ! ! ! ! ! ! ! !', 'ediocr food .', \"nce get insid 'll impress place .\", \"'m super pissd .\", 'nd servic super friendli .', 'hy sad littl veget overcook ?', 'place nice surpris !', 'hey golden-crispi delici .', 'high hope place sinc burger cook charcoal grill , unfortun tast fell flat , way flat .', 'could eat bruschetta day devin .', 'ot singl employe came see ok even need water refil final serv us food .', 'astli , mozzarella stick , best thing order .', 'first time ever came amaz experi , still tell peopl awesom duck .', 'server neglig need made us feel unwelcom ... would suggest place !', 'servic terribl though .', 'place overpr , consist boba , realli overpr !', 'pack ! !', 'love place .', 'say dessert yummi .', 'food terribl .', 'season fruit fresh white peach pure .', \"kept get wors wors 'm offici done .\", 'place honestli blown .', 'ut definit would eat .', 'wast money !', 'love put food nice plastic contain oppos cram littl paper takeout box .', 'crêpe delic thin moist .', 'wful servic .', \"n't ever go .\", 'ood qualiti horribl .', 'price think place would much rather gone .', 'servic fair best .', 'love sushi , found kabuki over-pr , over-hip under-servic .', 'favor stay away dish .', 'eri poor servic .', 'one tabl thought food averag worth wait .', 'est servic food ever , maria server good friendli made day .', 'hey excel .', 'paid bill tip felt server terribl job .', 'ust lunch great experi .', 'never bland food surpris consid articl read focus much spice flavor .', 'ood way overpr portion fuck small .', \"recent tri caballero 's back everi week sinc !\", '40 buck head , realli expect better food .', 'food came good pace .', 'ate twice last visit , especi enjoy salmon salad .', \"wo n't back .\", 'e could believ dirti oyster !', 'place deserv star .', 'would recommend place .', \"n fact 'm go round 4 star , awesom .\", 'disbelief , dish qualifi worst version food ever tast .', 'ad day , low toler rude custom servic peopl , job nice polit , wash dish otherwis ! !', 'potato great biscuit .', 'probabl would go .', 'flavor perfect amount heat .', 'price reason servic great .', 'wife hate meal ( coconut shrimp ) , friend realli enjoy meal , either .', \"fella got huevo ranchero n't look appeal .\", 'ent happi hour , great list wine .', 'ome may say buffet pricey think get pay place get quit lot !', \"probabl wo n't come back .\", \"orst food/servic 've .\", 'place pretti good , nice littl vibe restaur .', 'alk great custom servic cours back .', 'ot dish hot , cold dish close room temp.i watch staff prepar food bare hand , gloves.everyth deep fri oil .', 'love fri bean .', 'lway pleasur deal .', \"hey plethora salad sandwich , everyth 've tri get seal approv .\", 'place awesom want someth light healthi summer .', 'sushi strip , place go .', 'servic great , even manag came help tabl .', 'feel dine room colleg cook cours high class dine servic slow best .', \"start review two star , 'm edit give one .\", \"worst sushi ever eat besid costco 's .\", 'excel restaur highlight great servic , uniqu menu , beauti set .', 'boyfriend sat bar complet delight experi .', 'eird vibe owner .', 'hardli meat .', \"'ve better bagel groceri store .\", 'place gyro .', 'love owner/chef , one authent japanes cool dude !', \"ow burger n't good , pizza use amaz doughi flavorless .\", 'found six inch long piec wire salsa .', 'servic terribl , food mediocr .', 'e defin enjoy .', 'order albondiga soup - warm - tast like tomato soup frozen meatbal .', 'n three differ occas ask well done medium well , three time got bloodiest piec meat plate .', 'two bite refus eat anymor .', 'servic extrem slow .', 'fter 20 minut wait , got tabl .', 'erious killer hot chai latt .', 'allergi warn menu , waitress absolut clue meal contain peanut .', 'boyfriend tri mediterranean chicken salad fell love .', 'heir rotat beer tap also highlight place .', 'rice bit concern mellow mushroom .', 'orst thai ever .', 'f stay vega must get breakfast least .', 'want first say server great perfect servic .', 'pizza select good .', 'strawberri tea , good .', 'ighli unprofession rude loyal patron !', 'veral , great experi .', 'pend money elsewher .', 'heir regular toast bread equal satisfi occasion pat butter ... mmmm ... !', 'buffet bellagio far anticip .', 'nd drink weak , peopl !', '-mi order correct .', 'lso , feel like chip bought , made hous .', 'fter disappoint dinner went elsewher dessert .', 'chip sal amaz ! ! ! ! ! ! ! ! ! ! ! ! ! ! ! ! ! ! !', \"e wo n't return .\", 'new fav vega buffet spot .', 'serious believ owner mani unexperienc employe run around like chicken head cut .', 'eri , sad .', 'felt insult disrespect , could talk judg anoth human like ?', \"ow call steakhous ca n't properli cook steak , n't understand !\", \"'m impress concept food .\", \"thing n't crazi guacamol n't like puré .\", 'realli noth postino , hope experi better', 'got food poison buffet .', 'hey brought fresh batch fri think yay someth warm !', 'hat hilari , yummi christma eve dinner rememb biggest fail entir trip us .', \"eedless say , wo n't go back anytim soon .\", 'place disgust !', 'time eat , see care teamwork profession degre .', 'ri style calamari joke .', 'owev , much garlic fondu , bare edibl .', \"could bare stomach meal , n't complain busi lunch .\", 'bad , lost heart finish .', 'also took forev bring us check ask .', \"e n't one make scene restaur n't get ... definit lost love one !\", 'isappoint experi .', \"food par denni 's , say , good .\", 'f want wait mediocr food downright terribl servic , place .', 'aaaaaayyyyyyyyyi rate say .', \"e wo n't go back .\", \"place fairli clean food simpli n't worth .\", 'place lack style ! !', 'sangria half glass wine full $ 12 , ridicul .', \"n't bother come .\", 'meat pretti dri , slice brisket pull pork .', \"build seem pretti neat , bathroom pretti trippi , would n't eat .\", 'equal aw .', 'robabl hurri go back .', 'eri slow seat even reserv .', 'ot good stretch imagin .', 'cashew cream sauc bland veget undercook .', 'chipolt ranch dip saus tasteless , seem thin water heat .', 'bit sweet , realli spici enough , lack flavor .', 'disappoint ! !', 'place horribl way overpr .', \"ayb 's vegetarian fare , 've twice thought averag best .\", \"n't busi know .\", 'tabl outsid also dirti lot time worker alway friendli help menu .', 'ambianc feel like buffet set , douchey indoor garden tea biscuit .', ': spotti servic .', 'fri hot , neither burger .', 'ut came back cold .', 'hen food came , disappoint ensu .', 'real disappoint waiter .', 'husband said rude ... even apolog bad food anyth .', 'reason eat would fill night bing drink get carb stomach .', 'nsult , profound deuchebaggeri , go outsid smoke break serv solidifi .', \"f someon order two taco n't ' think may part custom servic ask combo ala cart ?\", 'quit disappoint although blame need place door .', \"fter rave review could n't wait eat ... ... disappoint !\", 'el taco pretti nasti avoid possibl .', \"'s hard make decent hamburg .\", \"ut n't like .\", 'ell go back', \"e 've gotten much better servic pizza place next door servic receiv restaur .\", \"n't know big deal place , wo n't back `` ya'al '' .\", 'immedi said want talk manag want talk guy shot firebal behind bar .', \"ambianc n't much better .\", 'nfortun , set us disapppoint entre .', \"food n't good .\", 'server suck , wait , correct , server heimer suck .', 'hat happen next pretti ... .off put .', \"oo bad caus know 's famili own , realli want like place .\", 'verpric get .', 'vomit bathroom mid lunch .', 'kept look time soon becom 35 minut , yet still food .', 'place eat circumst would ever return , top list .', \"e start tuna sashimi brownish color obvious n't fresh .\", 'ood averag .', 'sure beat nacho movi would expect littl bit come restaur .', ', ha long bay bit flop .', 'problem charg $ 11.99 sandwich bigger subway sub ( offer better amount veget ) .', 'hrimp- unwrap ( live 1/2 mile brushfir ) liter ice cold .', 'lack flavor , seem undercook , dri .', \"realli impress place n't close .\", 'would avoid place stay mirag .', 'refri bean came meal dri crusti food bland .', 'pend money time place els .', 'ladi tabl next us found live green caterpillar salad .', 'present food aw .', \"ca n't tell disappoint .\", 'think food flavor textur lack .', 'ppetit instantli gone .', 'veral impress would go back .', \"whole experi underwhelm , think 'll go ninja sushi next time .\", \"hen , n't wast enough life , pour salt wound draw time took bring check .\"]\n"
          ]
        }
      ]
    },
    {
      "cell_type": "markdown",
      "source": [
        "### **Create The Victor Representation**"
      ],
      "metadata": {
        "id": "9LOLHWSUpjLA"
      }
    },
    {
      "cell_type": "code",
      "source": [
        "from sklearn.feature_extraction.text import CountVectorizer\n",
        "cv = CountVectorizer()\n",
        "x = cv.fit_transform(reviews)"
      ],
      "metadata": {
        "id": "68Hjr94Tpn9a"
      },
      "execution_count": 30,
      "outputs": []
    },
    {
      "cell_type": "code",
      "source": [
        "y = data.iloc[:,1:2]\n",
        "y"
      ],
      "metadata": {
        "colab": {
          "base_uri": "https://localhost:8080/",
          "height": 424
        },
        "id": "c8HHMnDttZkC",
        "outputId": "4d7858f5-5b6c-4ffc-cb73-d9f857f730ad"
      },
      "execution_count": 31,
      "outputs": [
        {
          "output_type": "execute_result",
          "data": {
            "text/plain": [
              "     Liked\n",
              "0        1\n",
              "1        0\n",
              "2        0\n",
              "3        1\n",
              "4        1\n",
              "..     ...\n",
              "995      0\n",
              "996      0\n",
              "997      0\n",
              "998      0\n",
              "999      0\n",
              "\n",
              "[1000 rows x 1 columns]"
            ],
            "text/html": [
              "\n",
              "  <div id=\"df-4d455fe5-bb77-4252-b2ed-191cbd4f7c12\">\n",
              "    <div class=\"colab-df-container\">\n",
              "      <div>\n",
              "<style scoped>\n",
              "    .dataframe tbody tr th:only-of-type {\n",
              "        vertical-align: middle;\n",
              "    }\n",
              "\n",
              "    .dataframe tbody tr th {\n",
              "        vertical-align: top;\n",
              "    }\n",
              "\n",
              "    .dataframe thead th {\n",
              "        text-align: right;\n",
              "    }\n",
              "</style>\n",
              "<table border=\"1\" class=\"dataframe\">\n",
              "  <thead>\n",
              "    <tr style=\"text-align: right;\">\n",
              "      <th></th>\n",
              "      <th>Liked</th>\n",
              "    </tr>\n",
              "  </thead>\n",
              "  <tbody>\n",
              "    <tr>\n",
              "      <th>0</th>\n",
              "      <td>1</td>\n",
              "    </tr>\n",
              "    <tr>\n",
              "      <th>1</th>\n",
              "      <td>0</td>\n",
              "    </tr>\n",
              "    <tr>\n",
              "      <th>2</th>\n",
              "      <td>0</td>\n",
              "    </tr>\n",
              "    <tr>\n",
              "      <th>3</th>\n",
              "      <td>1</td>\n",
              "    </tr>\n",
              "    <tr>\n",
              "      <th>4</th>\n",
              "      <td>1</td>\n",
              "    </tr>\n",
              "    <tr>\n",
              "      <th>...</th>\n",
              "      <td>...</td>\n",
              "    </tr>\n",
              "    <tr>\n",
              "      <th>995</th>\n",
              "      <td>0</td>\n",
              "    </tr>\n",
              "    <tr>\n",
              "      <th>996</th>\n",
              "      <td>0</td>\n",
              "    </tr>\n",
              "    <tr>\n",
              "      <th>997</th>\n",
              "      <td>0</td>\n",
              "    </tr>\n",
              "    <tr>\n",
              "      <th>998</th>\n",
              "      <td>0</td>\n",
              "    </tr>\n",
              "    <tr>\n",
              "      <th>999</th>\n",
              "      <td>0</td>\n",
              "    </tr>\n",
              "  </tbody>\n",
              "</table>\n",
              "<p>1000 rows × 1 columns</p>\n",
              "</div>\n",
              "      <button class=\"colab-df-convert\" onclick=\"convertToInteractive('df-4d455fe5-bb77-4252-b2ed-191cbd4f7c12')\"\n",
              "              title=\"Convert this dataframe to an interactive table.\"\n",
              "              style=\"display:none;\">\n",
              "        \n",
              "  <svg xmlns=\"http://www.w3.org/2000/svg\" height=\"24px\"viewBox=\"0 0 24 24\"\n",
              "       width=\"24px\">\n",
              "    <path d=\"M0 0h24v24H0V0z\" fill=\"none\"/>\n",
              "    <path d=\"M18.56 5.44l.94 2.06.94-2.06 2.06-.94-2.06-.94-.94-2.06-.94 2.06-2.06.94zm-11 1L8.5 8.5l.94-2.06 2.06-.94-2.06-.94L8.5 2.5l-.94 2.06-2.06.94zm10 10l.94 2.06.94-2.06 2.06-.94-2.06-.94-.94-2.06-.94 2.06-2.06.94z\"/><path d=\"M17.41 7.96l-1.37-1.37c-.4-.4-.92-.59-1.43-.59-.52 0-1.04.2-1.43.59L10.3 9.45l-7.72 7.72c-.78.78-.78 2.05 0 2.83L4 21.41c.39.39.9.59 1.41.59.51 0 1.02-.2 1.41-.59l7.78-7.78 2.81-2.81c.8-.78.8-2.07 0-2.86zM5.41 20L4 18.59l7.72-7.72 1.47 1.35L5.41 20z\"/>\n",
              "  </svg>\n",
              "      </button>\n",
              "      \n",
              "  <style>\n",
              "    .colab-df-container {\n",
              "      display:flex;\n",
              "      flex-wrap:wrap;\n",
              "      gap: 12px;\n",
              "    }\n",
              "\n",
              "    .colab-df-convert {\n",
              "      background-color: #E8F0FE;\n",
              "      border: none;\n",
              "      border-radius: 50%;\n",
              "      cursor: pointer;\n",
              "      display: none;\n",
              "      fill: #1967D2;\n",
              "      height: 32px;\n",
              "      padding: 0 0 0 0;\n",
              "      width: 32px;\n",
              "    }\n",
              "\n",
              "    .colab-df-convert:hover {\n",
              "      background-color: #E2EBFA;\n",
              "      box-shadow: 0px 1px 2px rgba(60, 64, 67, 0.3), 0px 1px 3px 1px rgba(60, 64, 67, 0.15);\n",
              "      fill: #174EA6;\n",
              "    }\n",
              "\n",
              "    [theme=dark] .colab-df-convert {\n",
              "      background-color: #3B4455;\n",
              "      fill: #D2E3FC;\n",
              "    }\n",
              "\n",
              "    [theme=dark] .colab-df-convert:hover {\n",
              "      background-color: #434B5C;\n",
              "      box-shadow: 0px 1px 3px 1px rgba(0, 0, 0, 0.15);\n",
              "      filter: drop-shadow(0px 1px 2px rgba(0, 0, 0, 0.3));\n",
              "      fill: #FFFFFF;\n",
              "    }\n",
              "  </style>\n",
              "\n",
              "      <script>\n",
              "        const buttonEl =\n",
              "          document.querySelector('#df-4d455fe5-bb77-4252-b2ed-191cbd4f7c12 button.colab-df-convert');\n",
              "        buttonEl.style.display =\n",
              "          google.colab.kernel.accessAllowed ? 'block' : 'none';\n",
              "\n",
              "        async function convertToInteractive(key) {\n",
              "          const element = document.querySelector('#df-4d455fe5-bb77-4252-b2ed-191cbd4f7c12');\n",
              "          const dataTable =\n",
              "            await google.colab.kernel.invokeFunction('convertToInteractive',\n",
              "                                                     [key], {});\n",
              "          if (!dataTable) return;\n",
              "\n",
              "          const docLinkHtml = 'Like what you see? Visit the ' +\n",
              "            '<a target=\"_blank\" href=https://colab.research.google.com/notebooks/data_table.ipynb>data table notebook</a>'\n",
              "            + ' to learn more about interactive tables.';\n",
              "          element.innerHTML = '';\n",
              "          dataTable['output_type'] = 'display_data';\n",
              "          await google.colab.output.renderOutput(dataTable, element);\n",
              "          const docLink = document.createElement('div');\n",
              "          docLink.innerHTML = docLinkHtml;\n",
              "          element.appendChild(docLink);\n",
              "        }\n",
              "      </script>\n",
              "    </div>\n",
              "  </div>\n",
              "  "
            ]
          },
          "metadata": {},
          "execution_count": 31
        }
      ]
    },
    {
      "cell_type": "markdown",
      "source": [
        "### **Splitting data**"
      ],
      "metadata": {
        "id": "SvrB6Xu4uPwG"
      }
    },
    {
      "cell_type": "code",
      "source": [
        "from sklearn.model_selection import train_test_split\n",
        "x_train,x_test,y_train,y_test = train_test_split(x,y,test_size=0.2)"
      ],
      "metadata": {
        "id": "Qa9b9g0UtnSz"
      },
      "execution_count": 33,
      "outputs": []
    },
    {
      "cell_type": "markdown",
      "source": [
        "### **Choosing a Classifier**"
      ],
      "metadata": {
        "id": "JuiJLzTPuyFj"
      }
    },
    {
      "cell_type": "code",
      "source": [
        "from xgboost import XGBClassifier\n",
        "model = XGBClassifier()"
      ],
      "metadata": {
        "id": "XEv8lLPXuwQH"
      },
      "execution_count": 34,
      "outputs": []
    },
    {
      "cell_type": "code",
      "source": [
        "model.fit(x_train,y_train)"
      ],
      "metadata": {
        "colab": {
          "base_uri": "https://localhost:8080/"
        },
        "id": "jykrOvQ6vGqg",
        "outputId": "6c9fb0b5-a2d9-499c-ab35-97918235a70e"
      },
      "execution_count": 35,
      "outputs": [
        {
          "output_type": "stream",
          "name": "stderr",
          "text": [
            "/usr/local/lib/python3.7/dist-packages/sklearn/preprocessing/_label.py:98: DataConversionWarning: A column-vector y was passed when a 1d array was expected. Please change the shape of y to (n_samples, ), for example using ravel().\n",
            "  y = column_or_1d(y, warn=True)\n",
            "/usr/local/lib/python3.7/dist-packages/sklearn/preprocessing/_label.py:133: DataConversionWarning: A column-vector y was passed when a 1d array was expected. Please change the shape of y to (n_samples, ), for example using ravel().\n",
            "  y = column_or_1d(y, warn=True)\n"
          ]
        },
        {
          "output_type": "execute_result",
          "data": {
            "text/plain": [
              "XGBClassifier()"
            ]
          },
          "metadata": {},
          "execution_count": 35
        }
      ]
    },
    {
      "cell_type": "markdown",
      "source": [
        "### **accuracy**"
      ],
      "metadata": {
        "id": "gP3adlsHvM1i"
      }
    },
    {
      "cell_type": "code",
      "source": [
        "score = model.score(x_test,y_test)\n",
        "print(score)"
      ],
      "metadata": {
        "colab": {
          "base_uri": "https://localhost:8080/"
        },
        "id": "o8mhP0gxvRO8",
        "outputId": "c8b5bd17-628b-4eab-db23-e14259cd0565"
      },
      "execution_count": 37,
      "outputs": [
        {
          "output_type": "stream",
          "name": "stdout",
          "text": [
            "0.725\n"
          ]
        }
      ]
    },
    {
      "cell_type": "markdown",
      "source": [
        "### **Deployment**"
      ],
      "metadata": {
        "id": "UrXzrAADv4gW"
      }
    },
    {
      "cell_type": "code",
      "source": [
        "your_review = input('enter your review: ')\n",
        "l1 = []"
      ],
      "metadata": {
        "colab": {
          "base_uri": "https://localhost:8080/"
        },
        "id": "Dr9ryOvpv70t",
        "outputId": "1cf3c0a9-4590-4d7d-88d6-1cd45320cc2d"
      },
      "execution_count": 46,
      "outputs": [
        {
          "name": "stdout",
          "output_type": "stream",
          "text": [
            "enter your review: that's very good\n"
          ]
        }
      ]
    },
    {
      "cell_type": "code",
      "source": [
        "cleaned2 = re.sub('^[a-zA-Z]','',your_review)\n",
        "cleaned2 = cleaned2.lower()\n",
        "cleaned2 = word_tokenize(cleaned2)\n",
        "cleaned2 = [ps.stem(word) for word in cleaned2 if word not in filters]\n",
        "cleaned2 = \" \".join(cleaned2)\n",
        "l1.append(cleaned2)\n",
        "print(l1)"
      ],
      "metadata": {
        "colab": {
          "base_uri": "https://localhost:8080/"
        },
        "id": "uP7vEm2mwKql",
        "outputId": "240c3c9a-e446-4170-a830-7b37b3b9a2b8"
      },
      "execution_count": 47,
      "outputs": [
        {
          "output_type": "stream",
          "name": "stdout",
          "text": [
            "[\"hat 's good\"]\n"
          ]
        }
      ]
    },
    {
      "cell_type": "code",
      "source": [
        "x_new = cv.transform(l1)"
      ],
      "metadata": {
        "id": "hAiXa0tSwqWR"
      },
      "execution_count": 48,
      "outputs": []
    },
    {
      "cell_type": "code",
      "source": [
        "sent = model.predict(x_new)"
      ],
      "metadata": {
        "id": "00KHzb3NxJX5"
      },
      "execution_count": 49,
      "outputs": []
    },
    {
      "cell_type": "code",
      "source": [
        "print(sent)"
      ],
      "metadata": {
        "colab": {
          "base_uri": "https://localhost:8080/"
        },
        "id": "oROBiD6Qxhka",
        "outputId": "a5c99b16-372a-4327-e860-6c38fad69698"
      },
      "execution_count": 50,
      "outputs": [
        {
          "output_type": "stream",
          "name": "stdout",
          "text": [
            "[1]\n"
          ]
        }
      ]
    },
    {
      "cell_type": "code",
      "source": [
        "if 0 in sent:\n",
        "  print('bad review')\n",
        "else:\n",
        "  print('nice review')"
      ],
      "metadata": {
        "colab": {
          "base_uri": "https://localhost:8080/"
        },
        "id": "YwjMy2g6y4JS",
        "outputId": "20290fa7-3a6c-4676-90df-dcaee9ca3e44"
      },
      "execution_count": 51,
      "outputs": [
        {
          "output_type": "stream",
          "name": "stdout",
          "text": [
            "nice review\n"
          ]
        }
      ]
    }
  ]
}